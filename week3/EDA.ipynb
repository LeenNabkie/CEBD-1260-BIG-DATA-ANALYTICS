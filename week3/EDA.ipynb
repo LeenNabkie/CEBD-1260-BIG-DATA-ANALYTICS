{
 "cells": [
  {
   "cell_type": "markdown",
   "metadata": {},
   "source": [
    "# Exploratory Data Analysis"
   ]
  },
  {
   "cell_type": "code",
   "execution_count": null,
   "metadata": {
    "collapsed": true
   },
   "outputs": [],
   "source": [
    "# import the library\n",
    "%matplotlib inline\n",
    "\n",
    "import pandas as pd\n",
    "import numpy as np\n",
    "import scipy\n",
    "import matplotlib.pyplot as plt\n",
    "\n",
    "# the more advanced python visualization library\n",
    "import seaborn as sns\n",
    "\n",
    "# apply style to all the charts\n",
    "sns.set_style('whitegrid')\n",
    "\n",
    "# convert scientific notation to decimals\n",
    "pd.set_option('display.float_format', lambda x: '%.2f' % x)"
   ]
  },
  {
   "cell_type": "code",
   "execution_count": null,
   "metadata": {},
   "outputs": [],
   "source": [
    "# Load the data\n",
    "df = pd.read_csv('data/house_pricing.csv')\n",
    "df['date'] = pd.to_datetime(df['date'])\n",
    "df"
   ]
  },
  {
   "cell_type": "markdown",
   "metadata": {},
   "source": [
    "## Data Perspective\n",
    "- One variable\n",
    "    - Numeric variables\n",
    "        - continuous: average income\n",
    "        - discrete: population\n",
    "    - Categorical variables\n",
    "        - ordinal: grade\n",
    "        - nominal: house, apartment, townhouse, etc.\n",
    "- Multiple variables\n",
    "    - Numeric x Numeric\n",
    "    - Categorical x Numeric\n",
    "    - Categorical x Categorical"
   ]
  },
  {
   "cell_type": "markdown",
   "metadata": {},
   "source": [
    "## One Variable (numeric)"
   ]
  },
  {
   "cell_type": "code",
   "execution_count": null,
   "metadata": {},
   "outputs": [],
   "source": [
    "# Analize pricing distribution\n",
    "\n",
    "# Histogram\n",
    "print(df['price'].describe().round())\n",
    "plt.hist(df['price'], bins=100)\n",
    "plt.show()\n",
    "# Box plot\n",
    "plt.boxplot(df['price'])\n",
    "plt.xticks([1], ['Price'], rotation='horizontal')\n",
    "plt.show()"
   ]
  },
  {
   "cell_type": "code",
   "execution_count": null,
   "metadata": {
    "collapsed": true
   },
   "outputs": [],
   "source": [
    "#TODO: Analyze all the numerical variables"
   ]
  },
  {
   "cell_type": "markdown",
   "metadata": {},
   "source": [
    "## One Variable (categorical)"
   ]
  },
  {
   "cell_type": "code",
   "execution_count": null,
   "metadata": {},
   "outputs": [],
   "source": [
    "# Analize zipcode distribution\n",
    "print(df['bedrooms'].value_counts())\n",
    "\n",
    "# Bar Chart\n",
    "plt.figure(figsize=(12,6))\n",
    "plt.title('# houses by bedroom')\n",
    "plt.xlabel('bedrooms')\n",
    "plt.ylabel('# houses')\n",
    "\n",
    "labels = df['bedrooms'].value_counts().index\n",
    "values = df['bedrooms'].value_counts().values\n",
    "\n",
    "y_pos = range(len(labels))\n",
    "plt.bar(y_pos, values, align='center', alpha=0.5)\n",
    "plt.xticks(y_pos, labels)\n",
    "plt.show()"
   ]
  },
  {
   "cell_type": "code",
   "execution_count": null,
   "metadata": {
    "collapsed": true
   },
   "outputs": [],
   "source": [
    "#TODO: Analyze all the categorical variables"
   ]
  },
  {
   "cell_type": "markdown",
   "metadata": {},
   "source": [
    "## Multiple variables (Numeric x Numeric)"
   ]
  },
  {
   "cell_type": "code",
   "execution_count": null,
   "metadata": {},
   "outputs": [],
   "source": [
    "# Correlation\n",
    "df.corr()"
   ]
  },
  {
   "cell_type": "code",
   "execution_count": null,
   "metadata": {},
   "outputs": [],
   "source": [
    "# heatmap\n",
    "corrmat = df.corr()\n",
    "f, ax = plt.subplots(figsize=(12, 9))\n",
    "sns.heatmap(corrmat, vmax=.8, square=True)\n",
    "plt.show()"
   ]
  },
  {
   "cell_type": "code",
   "execution_count": null,
   "metadata": {},
   "outputs": [],
   "source": [
    "# Visualization : correlation between Price x SQFT\n",
    "\n",
    "plt.figure(figsize=(10,10))\n",
    "plt.xlabel('Price')\n",
    "plt.ylabel('SQFT')\n",
    "\n",
    "plt.plot(df['price'], df['sqft_living'], 'o', alpha=0.3)\n",
    "plt.show()"
   ]
  },
  {
   "cell_type": "code",
   "execution_count": null,
   "metadata": {
    "collapsed": true
   },
   "outputs": [],
   "source": [
    "# TODO: Create a scatterplot Price x Mean Income\n",
    "# TODO: What is the correlation between Price x Mean Income\n"
   ]
  },
  {
   "cell_type": "markdown",
   "metadata": {},
   "source": [
    "## Multiple variables (Categorical x Numeric)"
   ]
  },
  {
   "cell_type": "code",
   "execution_count": null,
   "metadata": {},
   "outputs": [],
   "source": [
    "# Box plot to show the distribution between bedrooms x price\n",
    "values = []\n",
    "labels = []\n",
    "for bdr in sorted(df['bedrooms'].unique()):\n",
    "    labels.append(bdr)\n",
    "    values.append(list(df[df['bedrooms']==bdr]['price'].values))\n",
    "\n",
    "plt.boxplot(values)\n",
    "plt.xticks(range(1,len(labels)+1), labels, rotation='horizontal')\n",
    "plt.show()"
   ]
  },
  {
   "cell_type": "markdown",
   "metadata": {},
   "source": [
    "## Multiple variables (Categorical x Categorical)"
   ]
  },
  {
   "cell_type": "code",
   "execution_count": null,
   "metadata": {},
   "outputs": [],
   "source": [
    "# Count of number of houses by zipcode and bedrooms\n",
    "\n",
    "n_bedrooms = [2,3,4]\n",
    "zipcodes = df['zipcode'].unique()\n",
    "r = range(len(zipcodes))\n",
    "\n",
    "df_group = df.groupby(['zipcode', 'bedrooms'])['id'].count().reset_index()\n",
    "df_group = df.pivot_table(index='zipcode', columns = 'bedrooms', values='id')\n",
    "df_group = df_group[[2,3,4]]\n",
    "df_group.columns = ['2BR','3BR','4BR']\n",
    "df_group = df_group.sort_values(['2BR','3BR','4BR'])\n",
    "\n",
    "raw_data = {'2BR': df_group['2BR'].values, \n",
    "            '3BR': df_group['3BR'].values, \n",
    "            '4BR': df_group['4BR'].values\n",
    "           }\n",
    "\n",
    "# From raw value to percentage\n",
    "totals = [float(i+j+k) for i,j,k in zip(raw_data['2BR'], raw_data['3BR'], raw_data['4BR'])]\n",
    "br2Bars = [i / j * 100 for i,j in zip(raw_data['2BR'], totals)]\n",
    "br3Bars = [i / j * 100 for i,j in zip(raw_data['3BR'], totals)]\n",
    "br4Bars = [i / j * 100 for i,j in zip(raw_data['4BR'], totals)]\n",
    "\n",
    "# plot\n",
    "barWidth = 0.85\n",
    "names = zipcodes\n",
    "plt.figure(figsize=(12,6))\n",
    "# Create green Bars\n",
    "plt.bar(r, br2Bars, edgecolor='white', width=barWidth, alpha=0.7, color='g', label='2BR')\n",
    "# Create orange Bars\n",
    "plt.bar(r, br3Bars, bottom=br2Bars, edgecolor='white', width=barWidth, alpha=0.7, color='orange', label='3BR')\n",
    "# Create blue Bars\n",
    "plt.bar(r, br4Bars, bottom=[i+j for i,j in zip(br2Bars, br3Bars)], edgecolor='white', width=barWidth, alpha=0.7, color='b', label='4BR')\n",
    "\n",
    "# Limit on y-axis\n",
    "plt.ylim(0,100)\n",
    "\n",
    "# Custom x axis\n",
    "plt.xticks(r, names, rotation='vertical')\n",
    "plt.ylabel(\"Percent\")\n",
    "plt.xlabel(\"zipcode\")\n",
    "\n",
    "plt.legend()\n",
    "\n",
    "# Show graphic\n",
    "plt.show()"
   ]
  },
  {
   "cell_type": "markdown",
   "metadata": {},
   "source": [
    "## Business Perspective\n",
    "\"An approximate answer to the right question is worth a great deal more than a precise answer to the wrong question.\" John Tukey"
   ]
  },
  {
   "cell_type": "code",
   "execution_count": null,
   "metadata": {
    "collapsed": true
   },
   "outputs": [],
   "source": [
    "# What is the total number of sales per month?"
   ]
  },
  {
   "cell_type": "code",
   "execution_count": null,
   "metadata": {
    "collapsed": true
   },
   "outputs": [],
   "source": [
    "# What is the total sales ($) per month?"
   ]
  },
  {
   "cell_type": "code",
   "execution_count": null,
   "metadata": {
    "collapsed": true
   },
   "outputs": [],
   "source": [
    "# What is the total number of sales per day of week?"
   ]
  },
  {
   "cell_type": "code",
   "execution_count": null,
   "metadata": {
    "collapsed": true
   },
   "outputs": [],
   "source": [
    "# What is the average price by zip code?"
   ]
  },
  {
   "cell_type": "code",
   "execution_count": null,
   "metadata": {
    "collapsed": true
   },
   "outputs": [],
   "source": [
    "# Identify the zip codes with highest and lowest price per square foot"
   ]
  },
  {
   "cell_type": "code",
   "execution_count": null,
   "metadata": {
    "collapsed": true
   },
   "outputs": [],
   "source": [
    "# Is the grade a good indicator of price?"
   ]
  },
  {
   "cell_type": "code",
   "execution_count": null,
   "metadata": {
    "collapsed": true
   },
   "outputs": [],
   "source": [
    "# Is the walking score a good indicator of price?"
   ]
  },
  {
   "cell_type": "code",
   "execution_count": null,
   "metadata": {},
   "outputs": [],
   "source": [
    "# Apply linear regression to the price\n",
    "\n",
    "from sklearn import linear_model\n",
    "\n",
    "# Create linear regression object\n",
    "model = linear_model.LinearRegression()\n",
    "\n",
    "columns = ['bedrooms', 'sqft_living15', 'grade', 'condition']\n",
    "\n",
    "# Train the model using the training sets\n",
    "model.fit(df[columns], df['price'])\n",
    "\n",
    "# Print the Coefficients\n",
    "print('Coefficients', np.round(model.coef_,2))\n",
    "print('Interception', round(model.intercept_,2))\n",
    "print('')\n",
    "for i, col in enumerate(columns):\n",
    "    print(col, round(model.coef_[i],1))\n",
    "\n",
    "print('')\n",
    "prediction = model.predict([[4, 3000, 10, 4]])\n",
    "print('Prediction', prediction.round(1)[0])"
   ]
  },
  {
   "cell_type": "code",
   "execution_count": null,
   "metadata": {},
   "outputs": [],
   "source": [
    "# Apply linear regression to the price considering the zipcode\n",
    "\n",
    "from sklearn import linear_model\n",
    "\n",
    "# Create linear regression object\n",
    "model = linear_model.LinearRegression()\n",
    "\n",
    "columns = ['bedrooms', 'sqft_living15', 'grade', 'condition']\n",
    "\n",
    "# Train the model using the training sets\n",
    "zipcode = 98000\n",
    "model.fit(df[df['zipcode']==zipcode][columns], df[df['zipcode']==zipcode]['price'])\n",
    "\n",
    "# Print the Coefficients\n",
    "print('Coefficients', np.round(model.coef_,2))\n",
    "print('Interception', round(model.intercept_,2))\n",
    "print('')\n",
    "for i, col in enumerate(columns):\n",
    "    print(col, round(model.coef_[i],1))\n",
    "\n",
    "print('')\n",
    "prediction = model.predict([[4, 3000, 10, 4]])\n",
    "print('Prediction', prediction.round(1)[0])"
   ]
  }
 ],
 "metadata": {
  "anaconda-cloud": {},
  "kernelspec": {
   "display_name": "Python 2",
   "language": "python",
   "name": "python2"
  },
  "language_info": {
   "codemirror_mode": {
    "name": "ipython",
    "version": 2
   },
   "file_extension": ".py",
   "mimetype": "text/x-python",
   "name": "python",
   "nbconvert_exporter": "python",
   "pygments_lexer": "ipython2",
   "version": "2.7.13"
  }
 },
 "nbformat": 4,
 "nbformat_minor": 1
}
