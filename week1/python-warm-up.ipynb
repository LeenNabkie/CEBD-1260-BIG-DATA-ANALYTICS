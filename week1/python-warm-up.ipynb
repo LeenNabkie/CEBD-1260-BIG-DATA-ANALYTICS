{
 "cells": [
  {
   "cell_type": "markdown",
   "metadata": {},
   "source": [
    "# Python Warm Up\n",
    "\n",
    "1. create a list (list_a) with numbers from 1 to 10\n",
    "2. import the numpy library and calculate the mean of the first 5 items from the list_a\n",
    "3. create a list (list_b) with 10 random number in a range from 1 to 10\n",
    "4. identify how many elements are in the intersection between list_a and list_b\n",
    "5. create a function that defines if a number is 'even' or 'odd'\n",
    "6. create a list (list_c) that merges list_a and list_b\n",
    "7. organize the list_c into a dictionary according to whether the number is 'even' or 'odd'\n",
    "8. how many numbers are even and how many are odd\n"
   ]
  },
  {
   "cell_type": "code",
   "execution_count": 1,
   "metadata": {},
   "outputs": [
    {
     "name": "stdout",
     "output_type": "stream",
     "text": [
      "[1, 2, 3, 4, 5, 6, 7, 8, 9, 10]\n"
     ]
    }
   ],
   "source": [
    "# 1. create a list (list_a) with numbers from 1 to 10\n",
    "list_a = range(1,11)\n",
    "print(list_a)"
   ]
  },
  {
   "cell_type": "code",
   "execution_count": 2,
   "metadata": {},
   "outputs": [
    {
     "name": "stdout",
     "output_type": "stream",
     "text": [
      "3.0\n"
     ]
    }
   ],
   "source": [
    "# 2. import the numpy library and calculate the mean of the first 5 items from the list_a\n",
    "import numpy as np\n",
    "print(np.mean(list_a[:5]))"
   ]
  },
  {
   "cell_type": "code",
   "execution_count": 9,
   "metadata": {},
   "outputs": [
    {
     "name": "stdout",
     "output_type": "stream",
     "text": [
      "[9, 8, 6, 1, 7, 6, 2, 4, 8, 5]\n"
     ]
    }
   ],
   "source": [
    "# 3. create a list (list_b) with 10 random number in a range from 0 to 10\n",
    "import random\n",
    "list_b = []\n",
    "for i in range(10):\n",
    "    list_b.append(random.randint(1, 10))\n",
    "print(list_b)"
   ]
  },
  {
   "cell_type": "code",
   "execution_count": 4,
   "metadata": {},
   "outputs": [
    {
     "name": "stdout",
     "output_type": "stream",
     "text": [
      "set([1, 3, 4, 5, 6, 8, 10])\n",
      "7\n"
     ]
    }
   ],
   "source": [
    "# 4. identify how many elements are in the intersection between list_a and list_b\n",
    "print(set(list_a)&set(list_b))\n",
    "print(len(set(list_a)&set(list_b)))"
   ]
  },
  {
   "cell_type": "code",
   "execution_count": 5,
   "metadata": {},
   "outputs": [
    {
     "name": "stdout",
     "output_type": "stream",
     "text": [
      "odd\n",
      "even\n",
      "odd\n"
     ]
    }
   ],
   "source": [
    "# 5. create a function that defines if a number is 'even' or 'odd'\n",
    "def even_odd(n):\n",
    "    if n%2 == 0:\n",
    "        return 'even'\n",
    "    else:\n",
    "        return 'odd'\n",
    "    \n",
    "print(even_odd(1))\n",
    "print(even_odd(2))\n",
    "print(even_odd(13))"
   ]
  },
  {
   "cell_type": "code",
   "execution_count": 6,
   "metadata": {},
   "outputs": [
    {
     "name": "stdout",
     "output_type": "stream",
     "text": [
      "[1, 2, 3, 4, 5, 6, 7, 8, 9, 10, 4, 8, 3, 4, 8, 6, 8, 10, 5, 1]\n"
     ]
    }
   ],
   "source": [
    "# 6. create a list (list_c) that merges list_a and list_b\n",
    "list_c = list_a + list_b\n",
    "print(list_c)"
   ]
  },
  {
   "cell_type": "code",
   "execution_count": 7,
   "metadata": {
    "collapsed": true
   },
   "outputs": [],
   "source": [
    "# 7. organize the list_c into a dictionary according to whether the number is 'even' or 'odd'\n",
    "dict_numbers = {}\n",
    "dict_numbers['even'] = []\n",
    "dict_numbers['odd'] = []\n",
    "for v in list_c:\n",
    "    number_type = even_odd(v)\n",
    "    dict_numbers[number_type].append(v)"
   ]
  },
  {
   "cell_type": "code",
   "execution_count": 8,
   "metadata": {},
   "outputs": [
    {
     "name": "stdout",
     "output_type": "stream",
     "text": [
      "['even', 12]\n",
      "['odd', 8]\n"
     ]
    }
   ],
   "source": [
    "# 8. how many numbers are even and how many are odd\n",
    "print(['even', len(dict_numbers['even'])])\n",
    "print(['odd', len(dict_numbers['odd'])])"
   ]
  },
  {
   "cell_type": "code",
   "execution_count": null,
   "metadata": {
    "collapsed": true
   },
   "outputs": [],
   "source": []
  }
 ],
 "metadata": {
  "anaconda-cloud": {},
  "kernelspec": {
   "display_name": "Python [conda root]",
   "language": "python",
   "name": "conda-root-py"
  },
  "language_info": {
   "codemirror_mode": {
    "name": "ipython",
    "version": 2
   },
   "file_extension": ".py",
   "mimetype": "text/x-python",
   "name": "python",
   "nbconvert_exporter": "python",
   "pygments_lexer": "ipython2",
   "version": "2.7.12"
  }
 },
 "nbformat": 4,
 "nbformat_minor": 1
}
